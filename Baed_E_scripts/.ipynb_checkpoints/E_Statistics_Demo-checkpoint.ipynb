{
 "cells": [
  {
   "cell_type": "code",
   "execution_count": null,
   "metadata": {},
   "outputs": [],
   "source": [
    "\n",
    "# We demonstate how to generate the E statistics from reference images(for PCA basis) \n",
    "# and sample images(synthesized images we want to quantify)\n",
    "\n"
   ]
  },
  {
   "cell_type": "code",
   "execution_count": 1,
   "metadata": {},
   "outputs": [],
   "source": [
    "# here we evaluate the PCA Basis with given reference images in Reference_dir\n",
    "# and VGG model is in model_dir\n",
    "from EBase.tools import VGG,Cov_Mean,TOOLS\n",
    "Reference_dir = './content/'\n",
    "model_dir =  './Models/' \n",
    "\n",
    "# create an tool objct with VGG model directory and image size\n",
    "E_StatisticsTools = TOOLS(model_dir,512)\n",
    "\n",
    "# Generating the decomposition basis of covariant matrix averaged over features of reference images\n",
    "PCA_basis = E_StatisticsTools.PCA_Basis_Generater( Reference_dir)\n",
    "# there are 5 sets of basis in PCA_basis corresponding to 5 sets of feature maps in VGG\n"
   ]
  },
  {
   "cell_type": "code",
   "execution_count": 2,
   "metadata": {},
   "outputs": [
    {
     "name": "stdout",
     "output_type": "stream",
     "text": [
      "6 344010 style6_content344010_weight11.0_weight100.0_iteration799.png\n",
      "6 344010 style6_content344010_weight11.0_weight150.0_iteration799.png\n",
      "10 141012 style10_content141012_weight11.0_weight0.1_iteration699.png\n",
      "10 141012 style10_content141012_weight11.0_weight0.5_iteration799.png\n"
     ]
    }
   ],
   "source": [
    "\n",
    "# Once the PCA_basis is generated, we need the following information to generate Base E statisics:\n",
    "style_dir =  './50styles/' # the style target images\n",
    "source_dir = './sample/' #sample images(synthesized images we want to quantify)\n",
    "source_list = 'sample.txt' # lsit of sample images\n",
    "outputfile = 'E_Base.txt' # the name of output file\n",
    "\n",
    "# This will generate a text file with each row represneting the information of one sample image with\n",
    "# 5 Base E statistics corresponding to 5 critical layers in VGG\n",
    "E_StatisticsTools.E_Basic_Statistics(style_dir,source_dir,source_list, outputfile)\n"
   ]
  },
  {
   "cell_type": "code",
   "execution_count": 4,
   "metadata": {},
   "outputs": [
    {
     "name": "stdout",
     "output_type": "stream",
     "text": [
      "style6_content344010_weight11.0_weight100.0_iteration799.png\n",
      "\n",
      "style6_content344010_weight11.0_weight150.0_iteration799.png\n",
      "\n",
      "style10_content141012_weight11.0_weight0.1_iteration699.png\n",
      "\n",
      "style10_content141012_weight11.0_weight0.5_iteration799.png\n",
      "\n"
     ]
    }
   ],
   "source": [
    "#\"sample.txt\" shows the list of sample files' names\n",
    "\n",
    "file1 = open('sample.txt', 'r') \n",
    "\n",
    "for line in file1.readlines()[:]:\n",
    "    print(line)"
   ]
  },
  {
   "cell_type": "code",
   "execution_count": null,
   "metadata": {},
   "outputs": [],
   "source": []
  }
 ],
 "metadata": {
  "kernelspec": {
   "display_name": "Python 3",
   "language": "python",
   "name": "python3"
  },
  "language_info": {
   "codemirror_mode": {
    "name": "ipython",
    "version": 3
   },
   "file_extension": ".py",
   "mimetype": "text/x-python",
   "name": "python",
   "nbconvert_exporter": "python",
   "pygments_lexer": "ipython3",
   "version": "3.5.2"
  }
 },
 "nbformat": 4,
 "nbformat_minor": 4
}
